{
 "cells": [
  {
   "cell_type": "code",
   "execution_count": 1,
   "id": "371147e3",
   "metadata": {},
   "outputs": [],
   "source": [
    "import pandas as pd"
   ]
  },
  {
   "cell_type": "code",
   "execution_count": 2,
   "id": "8a204522",
   "metadata": {},
   "outputs": [],
   "source": [
    "#data is taken from the source\n",
    "\n",
    "data=pd.read_csv(\"Fraud.csv\")"
   ]
  },
  {
   "cell_type": "code",
   "execution_count": 3,
   "id": "58f4b0b1",
   "metadata": {},
   "outputs": [
    {
     "data": {
      "text/html": [
       "<div>\n",
       "<style scoped>\n",
       "    .dataframe tbody tr th:only-of-type {\n",
       "        vertical-align: middle;\n",
       "    }\n",
       "\n",
       "    .dataframe tbody tr th {\n",
       "        vertical-align: top;\n",
       "    }\n",
       "\n",
       "    .dataframe thead th {\n",
       "        text-align: right;\n",
       "    }\n",
       "</style>\n",
       "<table border=\"1\" class=\"dataframe\">\n",
       "  <thead>\n",
       "    <tr style=\"text-align: right;\">\n",
       "      <th></th>\n",
       "      <th>step</th>\n",
       "      <th>type</th>\n",
       "      <th>amount</th>\n",
       "      <th>nameOrig</th>\n",
       "      <th>oldbalanceOrg</th>\n",
       "      <th>newbalanceOrig</th>\n",
       "      <th>nameDest</th>\n",
       "      <th>oldbalanceDest</th>\n",
       "      <th>newbalanceDest</th>\n",
       "      <th>isFraud</th>\n",
       "      <th>isFlaggedFraud</th>\n",
       "    </tr>\n",
       "  </thead>\n",
       "  <tbody>\n",
       "    <tr>\n",
       "      <th>0</th>\n",
       "      <td>1</td>\n",
       "      <td>PAYMENT</td>\n",
       "      <td>9839.64</td>\n",
       "      <td>C1231006815</td>\n",
       "      <td>170136.0</td>\n",
       "      <td>160296.36</td>\n",
       "      <td>M1979787155</td>\n",
       "      <td>0.0</td>\n",
       "      <td>0.0</td>\n",
       "      <td>0</td>\n",
       "      <td>0</td>\n",
       "    </tr>\n",
       "    <tr>\n",
       "      <th>1</th>\n",
       "      <td>1</td>\n",
       "      <td>PAYMENT</td>\n",
       "      <td>1864.28</td>\n",
       "      <td>C1666544295</td>\n",
       "      <td>21249.0</td>\n",
       "      <td>19384.72</td>\n",
       "      <td>M2044282225</td>\n",
       "      <td>0.0</td>\n",
       "      <td>0.0</td>\n",
       "      <td>0</td>\n",
       "      <td>0</td>\n",
       "    </tr>\n",
       "    <tr>\n",
       "      <th>2</th>\n",
       "      <td>1</td>\n",
       "      <td>TRANSFER</td>\n",
       "      <td>181.00</td>\n",
       "      <td>C1305486145</td>\n",
       "      <td>181.0</td>\n",
       "      <td>0.00</td>\n",
       "      <td>C553264065</td>\n",
       "      <td>0.0</td>\n",
       "      <td>0.0</td>\n",
       "      <td>1</td>\n",
       "      <td>0</td>\n",
       "    </tr>\n",
       "    <tr>\n",
       "      <th>3</th>\n",
       "      <td>1</td>\n",
       "      <td>CASH_OUT</td>\n",
       "      <td>181.00</td>\n",
       "      <td>C840083671</td>\n",
       "      <td>181.0</td>\n",
       "      <td>0.00</td>\n",
       "      <td>C38997010</td>\n",
       "      <td>21182.0</td>\n",
       "      <td>0.0</td>\n",
       "      <td>1</td>\n",
       "      <td>0</td>\n",
       "    </tr>\n",
       "    <tr>\n",
       "      <th>4</th>\n",
       "      <td>1</td>\n",
       "      <td>PAYMENT</td>\n",
       "      <td>11668.14</td>\n",
       "      <td>C2048537720</td>\n",
       "      <td>41554.0</td>\n",
       "      <td>29885.86</td>\n",
       "      <td>M1230701703</td>\n",
       "      <td>0.0</td>\n",
       "      <td>0.0</td>\n",
       "      <td>0</td>\n",
       "      <td>0</td>\n",
       "    </tr>\n",
       "  </tbody>\n",
       "</table>\n",
       "</div>"
      ],
      "text/plain": [
       "   step      type    amount     nameOrig  oldbalanceOrg  newbalanceOrig  \\\n",
       "0     1   PAYMENT   9839.64  C1231006815       170136.0       160296.36   \n",
       "1     1   PAYMENT   1864.28  C1666544295        21249.0        19384.72   \n",
       "2     1  TRANSFER    181.00  C1305486145          181.0            0.00   \n",
       "3     1  CASH_OUT    181.00   C840083671          181.0            0.00   \n",
       "4     1   PAYMENT  11668.14  C2048537720        41554.0        29885.86   \n",
       "\n",
       "      nameDest  oldbalanceDest  newbalanceDest  isFraud  isFlaggedFraud  \n",
       "0  M1979787155             0.0             0.0        0               0  \n",
       "1  M2044282225             0.0             0.0        0               0  \n",
       "2   C553264065             0.0             0.0        1               0  \n",
       "3    C38997010         21182.0             0.0        1               0  \n",
       "4  M1230701703             0.0             0.0        0               0  "
      ]
     },
     "execution_count": 3,
     "metadata": {},
     "output_type": "execute_result"
    }
   ],
   "source": [
    "data.head()"
   ]
  },
  {
   "cell_type": "code",
   "execution_count": 4,
   "id": "495a7e96",
   "metadata": {},
   "outputs": [
    {
     "name": "stdout",
     "output_type": "stream",
     "text": [
      "<class 'pandas.core.frame.DataFrame'>\n",
      "RangeIndex: 6362620 entries, 0 to 6362619\n",
      "Data columns (total 11 columns):\n",
      " #   Column          Dtype  \n",
      "---  ------          -----  \n",
      " 0   step            int64  \n",
      " 1   type            object \n",
      " 2   amount          float64\n",
      " 3   nameOrig        object \n",
      " 4   oldbalanceOrg   float64\n",
      " 5   newbalanceOrig  float64\n",
      " 6   nameDest        object \n",
      " 7   oldbalanceDest  float64\n",
      " 8   newbalanceDest  float64\n",
      " 9   isFraud         int64  \n",
      " 10  isFlaggedFraud  int64  \n",
      "dtypes: float64(5), int64(3), object(3)\n",
      "memory usage: 534.0+ MB\n"
     ]
    }
   ],
   "source": [
    "data.info()"
   ]
  },
  {
   "cell_type": "code",
   "execution_count": 5,
   "id": "c5332b86",
   "metadata": {},
   "outputs": [
    {
     "data": {
      "text/html": [
       "<div>\n",
       "<style scoped>\n",
       "    .dataframe tbody tr th:only-of-type {\n",
       "        vertical-align: middle;\n",
       "    }\n",
       "\n",
       "    .dataframe tbody tr th {\n",
       "        vertical-align: top;\n",
       "    }\n",
       "\n",
       "    .dataframe thead th {\n",
       "        text-align: right;\n",
       "    }\n",
       "</style>\n",
       "<table border=\"1\" class=\"dataframe\">\n",
       "  <thead>\n",
       "    <tr style=\"text-align: right;\">\n",
       "      <th></th>\n",
       "      <th>step</th>\n",
       "      <th>amount</th>\n",
       "      <th>oldbalanceOrg</th>\n",
       "      <th>newbalanceOrig</th>\n",
       "      <th>oldbalanceDest</th>\n",
       "      <th>newbalanceDest</th>\n",
       "      <th>isFraud</th>\n",
       "      <th>isFlaggedFraud</th>\n",
       "    </tr>\n",
       "  </thead>\n",
       "  <tbody>\n",
       "    <tr>\n",
       "      <th>count</th>\n",
       "      <td>6.362620e+06</td>\n",
       "      <td>6.362620e+06</td>\n",
       "      <td>6.362620e+06</td>\n",
       "      <td>6.362620e+06</td>\n",
       "      <td>6.362620e+06</td>\n",
       "      <td>6.362620e+06</td>\n",
       "      <td>6.362620e+06</td>\n",
       "      <td>6.362620e+06</td>\n",
       "    </tr>\n",
       "    <tr>\n",
       "      <th>mean</th>\n",
       "      <td>2.433972e+02</td>\n",
       "      <td>1.798619e+05</td>\n",
       "      <td>8.338831e+05</td>\n",
       "      <td>8.551137e+05</td>\n",
       "      <td>1.100702e+06</td>\n",
       "      <td>1.224996e+06</td>\n",
       "      <td>1.290820e-03</td>\n",
       "      <td>2.514687e-06</td>\n",
       "    </tr>\n",
       "    <tr>\n",
       "      <th>std</th>\n",
       "      <td>1.423320e+02</td>\n",
       "      <td>6.038582e+05</td>\n",
       "      <td>2.888243e+06</td>\n",
       "      <td>2.924049e+06</td>\n",
       "      <td>3.399180e+06</td>\n",
       "      <td>3.674129e+06</td>\n",
       "      <td>3.590480e-02</td>\n",
       "      <td>1.585775e-03</td>\n",
       "    </tr>\n",
       "    <tr>\n",
       "      <th>min</th>\n",
       "      <td>1.000000e+00</td>\n",
       "      <td>0.000000e+00</td>\n",
       "      <td>0.000000e+00</td>\n",
       "      <td>0.000000e+00</td>\n",
       "      <td>0.000000e+00</td>\n",
       "      <td>0.000000e+00</td>\n",
       "      <td>0.000000e+00</td>\n",
       "      <td>0.000000e+00</td>\n",
       "    </tr>\n",
       "    <tr>\n",
       "      <th>25%</th>\n",
       "      <td>1.560000e+02</td>\n",
       "      <td>1.338957e+04</td>\n",
       "      <td>0.000000e+00</td>\n",
       "      <td>0.000000e+00</td>\n",
       "      <td>0.000000e+00</td>\n",
       "      <td>0.000000e+00</td>\n",
       "      <td>0.000000e+00</td>\n",
       "      <td>0.000000e+00</td>\n",
       "    </tr>\n",
       "    <tr>\n",
       "      <th>50%</th>\n",
       "      <td>2.390000e+02</td>\n",
       "      <td>7.487194e+04</td>\n",
       "      <td>1.420800e+04</td>\n",
       "      <td>0.000000e+00</td>\n",
       "      <td>1.327057e+05</td>\n",
       "      <td>2.146614e+05</td>\n",
       "      <td>0.000000e+00</td>\n",
       "      <td>0.000000e+00</td>\n",
       "    </tr>\n",
       "    <tr>\n",
       "      <th>75%</th>\n",
       "      <td>3.350000e+02</td>\n",
       "      <td>2.087215e+05</td>\n",
       "      <td>1.073152e+05</td>\n",
       "      <td>1.442584e+05</td>\n",
       "      <td>9.430367e+05</td>\n",
       "      <td>1.111909e+06</td>\n",
       "      <td>0.000000e+00</td>\n",
       "      <td>0.000000e+00</td>\n",
       "    </tr>\n",
       "    <tr>\n",
       "      <th>max</th>\n",
       "      <td>7.430000e+02</td>\n",
       "      <td>9.244552e+07</td>\n",
       "      <td>5.958504e+07</td>\n",
       "      <td>4.958504e+07</td>\n",
       "      <td>3.560159e+08</td>\n",
       "      <td>3.561793e+08</td>\n",
       "      <td>1.000000e+00</td>\n",
       "      <td>1.000000e+00</td>\n",
       "    </tr>\n",
       "  </tbody>\n",
       "</table>\n",
       "</div>"
      ],
      "text/plain": [
       "               step        amount  oldbalanceOrg  newbalanceOrig  \\\n",
       "count  6.362620e+06  6.362620e+06   6.362620e+06    6.362620e+06   \n",
       "mean   2.433972e+02  1.798619e+05   8.338831e+05    8.551137e+05   \n",
       "std    1.423320e+02  6.038582e+05   2.888243e+06    2.924049e+06   \n",
       "min    1.000000e+00  0.000000e+00   0.000000e+00    0.000000e+00   \n",
       "25%    1.560000e+02  1.338957e+04   0.000000e+00    0.000000e+00   \n",
       "50%    2.390000e+02  7.487194e+04   1.420800e+04    0.000000e+00   \n",
       "75%    3.350000e+02  2.087215e+05   1.073152e+05    1.442584e+05   \n",
       "max    7.430000e+02  9.244552e+07   5.958504e+07    4.958504e+07   \n",
       "\n",
       "       oldbalanceDest  newbalanceDest       isFraud  isFlaggedFraud  \n",
       "count    6.362620e+06    6.362620e+06  6.362620e+06    6.362620e+06  \n",
       "mean     1.100702e+06    1.224996e+06  1.290820e-03    2.514687e-06  \n",
       "std      3.399180e+06    3.674129e+06  3.590480e-02    1.585775e-03  \n",
       "min      0.000000e+00    0.000000e+00  0.000000e+00    0.000000e+00  \n",
       "25%      0.000000e+00    0.000000e+00  0.000000e+00    0.000000e+00  \n",
       "50%      1.327057e+05    2.146614e+05  0.000000e+00    0.000000e+00  \n",
       "75%      9.430367e+05    1.111909e+06  0.000000e+00    0.000000e+00  \n",
       "max      3.560159e+08    3.561793e+08  1.000000e+00    1.000000e+00  "
      ]
     },
     "execution_count": 5,
     "metadata": {},
     "output_type": "execute_result"
    }
   ],
   "source": [
    "data.describe()"
   ]
  },
  {
   "cell_type": "code",
   "execution_count": 6,
   "id": "c9c0180c",
   "metadata": {},
   "outputs": [
    {
     "data": {
      "text/plain": [
       "step              0\n",
       "type              0\n",
       "amount            0\n",
       "nameOrig          0\n",
       "oldbalanceOrg     0\n",
       "newbalanceOrig    0\n",
       "nameDest          0\n",
       "oldbalanceDest    0\n",
       "newbalanceDest    0\n",
       "isFraud           0\n",
       "isFlaggedFraud    0\n",
       "dtype: int64"
      ]
     },
     "execution_count": 6,
     "metadata": {},
     "output_type": "execute_result"
    }
   ],
   "source": [
    "#for missing values\n",
    "\n",
    "data.isnull().sum()"
   ]
  },
  {
   "cell_type": "code",
   "execution_count": 7,
   "id": "ec3dd1b4",
   "metadata": {},
   "outputs": [],
   "source": [
    "#pip install dtale"
   ]
  },
  {
   "cell_type": "code",
   "execution_count": 8,
   "id": "80e955b8",
   "metadata": {},
   "outputs": [
    {
     "data": {
      "text/html": [
       "\n",
       "        <iframe\n",
       "            width=\"100%\"\n",
       "            height=\"475\"\n",
       "            src=\"http://AyushNautiyal:40000/dtale/iframe/1\"\n",
       "            frameborder=\"0\"\n",
       "            allowfullscreen\n",
       "            \n",
       "        ></iframe>\n",
       "        "
      ],
      "text/plain": [
       "<IPython.lib.display.IFrame at 0x1e3cad20590>"
      ]
     },
     "metadata": {},
     "output_type": "display_data"
    },
    {
     "data": {
      "text/plain": []
     },
     "execution_count": 8,
     "metadata": {},
     "output_type": "execute_result"
    }
   ],
   "source": [
    "#Automated EDA for the better clearifiction of the imported data\n",
    "\n",
    "import dtale\n",
    "dtale.show(data)"
   ]
  },
  {
   "cell_type": "markdown",
   "id": "3ec86af3",
   "metadata": {},
   "source": [
    "Points to considerd till now:\n",
    "1. The csv fie is taken by pandas as name data.\n",
    "2. No missing values was found on the data."
   ]
  },
  {
   "cell_type": "markdown",
   "id": "2320bd00",
   "metadata": {},
   "source": [
    "# Converting text data to numerical data"
   ]
  },
  {
   "cell_type": "code",
   "execution_count": 9,
   "id": "fd0a4a27",
   "metadata": {},
   "outputs": [
    {
     "name": "stdout",
     "output_type": "stream",
     "text": [
      "<class 'pandas.core.frame.DataFrame'>\n",
      "RangeIndex: 6362620 entries, 0 to 6362619\n",
      "Data columns (total 11 columns):\n",
      " #   Column          Dtype  \n",
      "---  ------          -----  \n",
      " 0   step            int64  \n",
      " 1   type            object \n",
      " 2   amount          float64\n",
      " 3   nameOrig        object \n",
      " 4   oldbalanceOrg   float64\n",
      " 5   newbalanceOrig  float64\n",
      " 6   nameDest        object \n",
      " 7   oldbalanceDest  float64\n",
      " 8   newbalanceDest  float64\n",
      " 9   isFraud         int64  \n",
      " 10  isFlaggedFraud  int64  \n",
      "dtypes: float64(5), int64(3), object(3)\n",
      "memory usage: 534.0+ MB\n"
     ]
    }
   ],
   "source": [
    "\n",
    "data.info()"
   ]
  },
  {
   "cell_type": "code",
   "execution_count": 10,
   "id": "7bc49ffc",
   "metadata": {},
   "outputs": [
    {
     "data": {
      "text/plain": [
       "array(['PAYMENT', 'TRANSFER', 'CASH_OUT', 'DEBIT', 'CASH_IN'],\n",
       "      dtype=object)"
      ]
     },
     "execution_count": 10,
     "metadata": {},
     "output_type": "execute_result"
    }
   ],
   "source": [
    "data['type'].unique()"
   ]
  },
  {
   "cell_type": "code",
   "execution_count": 11,
   "id": "b1e6e2b5",
   "metadata": {},
   "outputs": [],
   "source": [
    "from sklearn.preprocessing import LabelEncoder\n",
    "lb=LabelEncoder()\n",
    "\n",
    "data['type']=lb.fit_transform(data['type'])\n"
   ]
  },
  {
   "cell_type": "code",
   "execution_count": 12,
   "id": "411b0518",
   "metadata": {},
   "outputs": [
    {
     "data": {
      "text/plain": [
       "type\n",
       "1    2237500\n",
       "3    2151495\n",
       "0    1399284\n",
       "4     532909\n",
       "2      41432\n",
       "Name: count, dtype: int64"
      ]
     },
     "execution_count": 12,
     "metadata": {},
     "output_type": "execute_result"
    }
   ],
   "source": [
    "data['type'].value_counts()"
   ]
  },
  {
   "cell_type": "code",
   "execution_count": 13,
   "id": "a83578f1",
   "metadata": {},
   "outputs": [],
   "source": [
    "data['nameOrig']=lb.fit_transform(data['nameOrig'])\n",
    "data['nameDest']=lb.fit_transform(data['nameDest'])"
   ]
  },
  {
   "cell_type": "code",
   "execution_count": 14,
   "id": "88a89901",
   "metadata": {},
   "outputs": [
    {
     "name": "stdout",
     "output_type": "stream",
     "text": [
      "<class 'pandas.core.frame.DataFrame'>\n",
      "RangeIndex: 6362620 entries, 0 to 6362619\n",
      "Data columns (total 11 columns):\n",
      " #   Column          Dtype  \n",
      "---  ------          -----  \n",
      " 0   step            int64  \n",
      " 1   type            int32  \n",
      " 2   amount          float64\n",
      " 3   nameOrig        int32  \n",
      " 4   oldbalanceOrg   float64\n",
      " 5   newbalanceOrig  float64\n",
      " 6   nameDest        int32  \n",
      " 7   oldbalanceDest  float64\n",
      " 8   newbalanceDest  float64\n",
      " 9   isFraud         int64  \n",
      " 10  isFlaggedFraud  int64  \n",
      "dtypes: float64(5), int32(3), int64(3)\n",
      "memory usage: 461.2 MB\n"
     ]
    }
   ],
   "source": [
    "data.info()"
   ]
  },
  {
   "cell_type": "markdown",
   "id": "d389b88f",
   "metadata": {},
   "source": [
    "Point to be considered till now:\n",
    "1. Three object type attributes (type,nameOrig and nameDest).\n",
    "2. Converted into numerical attributes by the help of Label Encoding "
   ]
  },
  {
   "cell_type": "markdown",
   "id": "2d951861",
   "metadata": {},
   "source": [
    "# Dividing into training and testing"
   ]
  },
  {
   "cell_type": "code",
   "execution_count": 15,
   "id": "0ad6fba4",
   "metadata": {},
   "outputs": [],
   "source": [
    "from sklearn.model_selection import train_test_split\n",
    "train,test=train_test_split(data,test_size=0.2,random_state=42)"
   ]
  },
  {
   "cell_type": "code",
   "execution_count": 16,
   "id": "4b4f59e4",
   "metadata": {},
   "outputs": [
    {
     "data": {
      "text/plain": [
       "13997764"
      ]
     },
     "execution_count": 16,
     "metadata": {},
     "output_type": "execute_result"
    }
   ],
   "source": [
    "test.size"
   ]
  },
  {
   "cell_type": "code",
   "execution_count": 17,
   "id": "d1491899",
   "metadata": {},
   "outputs": [
    {
     "data": {
      "text/plain": [
       "55991056"
      ]
     },
     "execution_count": 17,
     "metadata": {},
     "output_type": "execute_result"
    }
   ],
   "source": [
    "train.size"
   ]
  },
  {
   "cell_type": "code",
   "execution_count": 18,
   "id": "b29ef2bc",
   "metadata": {},
   "outputs": [
    {
     "data": {
      "text/html": [
       "<div>\n",
       "<style scoped>\n",
       "    .dataframe tbody tr th:only-of-type {\n",
       "        vertical-align: middle;\n",
       "    }\n",
       "\n",
       "    .dataframe tbody tr th {\n",
       "        vertical-align: top;\n",
       "    }\n",
       "\n",
       "    .dataframe thead th {\n",
       "        text-align: right;\n",
       "    }\n",
       "</style>\n",
       "<table border=\"1\" class=\"dataframe\">\n",
       "  <thead>\n",
       "    <tr style=\"text-align: right;\">\n",
       "      <th></th>\n",
       "      <th>step</th>\n",
       "      <th>type</th>\n",
       "      <th>amount</th>\n",
       "      <th>nameOrig</th>\n",
       "      <th>oldbalanceOrg</th>\n",
       "      <th>newbalanceOrig</th>\n",
       "      <th>nameDest</th>\n",
       "      <th>oldbalanceDest</th>\n",
       "      <th>newbalanceDest</th>\n",
       "      <th>isFlaggedFraud</th>\n",
       "    </tr>\n",
       "  </thead>\n",
       "  <tbody>\n",
       "    <tr>\n",
       "      <th>6271196</th>\n",
       "      <td>619</td>\n",
       "      <td>0</td>\n",
       "      <td>386385.08</td>\n",
       "      <td>4449199</td>\n",
       "      <td>4669568.85</td>\n",
       "      <td>5055953.92</td>\n",
       "      <td>289167</td>\n",
       "      <td>506035.06</td>\n",
       "      <td>119649.98</td>\n",
       "      <td>0</td>\n",
       "    </tr>\n",
       "    <tr>\n",
       "      <th>1888243</th>\n",
       "      <td>164</td>\n",
       "      <td>0</td>\n",
       "      <td>212458.78</td>\n",
       "      <td>5813773</td>\n",
       "      <td>234635.00</td>\n",
       "      <td>447093.78</td>\n",
       "      <td>204382</td>\n",
       "      <td>806037.88</td>\n",
       "      <td>593579.10</td>\n",
       "      <td>0</td>\n",
       "    </tr>\n",
       "    <tr>\n",
       "      <th>5549957</th>\n",
       "      <td>382</td>\n",
       "      <td>3</td>\n",
       "      <td>19967.60</td>\n",
       "      <td>5870502</td>\n",
       "      <td>3634.00</td>\n",
       "      <td>0.00</td>\n",
       "      <td>1346491</td>\n",
       "      <td>0.00</td>\n",
       "      <td>0.00</td>\n",
       "      <td>0</td>\n",
       "    </tr>\n",
       "    <tr>\n",
       "      <th>2025342</th>\n",
       "      <td>180</td>\n",
       "      <td>1</td>\n",
       "      <td>527616.51</td>\n",
       "      <td>5095916</td>\n",
       "      <td>180216.00</td>\n",
       "      <td>0.00</td>\n",
       "      <td>446948</td>\n",
       "      <td>92157.10</td>\n",
       "      <td>619773.61</td>\n",
       "      <td>0</td>\n",
       "    </tr>\n",
       "    <tr>\n",
       "      <th>682342</th>\n",
       "      <td>36</td>\n",
       "      <td>4</td>\n",
       "      <td>206067.85</td>\n",
       "      <td>5557736</td>\n",
       "      <td>0.00</td>\n",
       "      <td>0.00</td>\n",
       "      <td>338417</td>\n",
       "      <td>2131494.48</td>\n",
       "      <td>2337562.32</td>\n",
       "      <td>0</td>\n",
       "    </tr>\n",
       "  </tbody>\n",
       "</table>\n",
       "</div>"
      ],
      "text/plain": [
       "         step  type     amount  nameOrig  oldbalanceOrg  newbalanceOrig  \\\n",
       "6271196   619     0  386385.08   4449199     4669568.85      5055953.92   \n",
       "1888243   164     0  212458.78   5813773      234635.00       447093.78   \n",
       "5549957   382     3   19967.60   5870502        3634.00            0.00   \n",
       "2025342   180     1  527616.51   5095916      180216.00            0.00   \n",
       "682342     36     4  206067.85   5557736           0.00            0.00   \n",
       "\n",
       "         nameDest  oldbalanceDest  newbalanceDest  isFlaggedFraud  \n",
       "6271196    289167       506035.06       119649.98               0  \n",
       "1888243    204382       806037.88       593579.10               0  \n",
       "5549957   1346491            0.00            0.00               0  \n",
       "2025342    446948        92157.10       619773.61               0  \n",
       "682342     338417      2131494.48      2337562.32               0  "
      ]
     },
     "execution_count": 18,
     "metadata": {},
     "output_type": "execute_result"
    }
   ],
   "source": [
    "x_train=train.drop('isFraud',axis=1)\n",
    "x_test=test.drop('isFraud',axis=1)\n",
    "x_train.head()"
   ]
  },
  {
   "cell_type": "code",
   "execution_count": 19,
   "id": "28484372",
   "metadata": {},
   "outputs": [
    {
     "data": {
      "text/plain": [
       "6271196    0\n",
       "1888243    0\n",
       "5549957    0\n",
       "2025342    0\n",
       "682342     0\n",
       "Name: isFraud, dtype: int64"
      ]
     },
     "execution_count": 19,
     "metadata": {},
     "output_type": "execute_result"
    }
   ],
   "source": [
    "y_train=train['isFraud'].copy()\n",
    "y_test=test['isFraud'].copy()\n",
    "y_train.head()"
   ]
  },
  {
   "cell_type": "code",
   "execution_count": 20,
   "id": "814da832",
   "metadata": {},
   "outputs": [
    {
     "data": {
      "text/plain": [
       "isFraud\n",
       "0    5083503\n",
       "1       6593\n",
       "Name: count, dtype: int64"
      ]
     },
     "execution_count": 20,
     "metadata": {},
     "output_type": "execute_result"
    }
   ],
   "source": [
    "y_train.value_counts()"
   ]
  },
  {
   "cell_type": "code",
   "execution_count": 21,
   "id": "0852ffe5",
   "metadata": {},
   "outputs": [
    {
     "data": {
      "text/plain": [
       "([<matplotlib.patches.Wedge at 0x1e39e6a9d90>,\n",
       "  <matplotlib.patches.Wedge at 0x1e39e6ab290>],\n",
       " [Text(-1.099990892871439, 0.004476114374567543, ' Not Fraud'),\n",
       "  Text(1.0999908927568456, -0.004476142535507785, 'Fraud')])"
      ]
     },
     "execution_count": 21,
     "metadata": {},
     "output_type": "execute_result"
    },
    {
     "data": {
      "image/png": "[encoded data removed]",
      "text/plain": [
       "<Figure size 640x480 with 1 Axes>"
      ]
     },
     "metadata": {},
     "output_type": "display_data"
    }
   ],
   "source": [
    "import matplotlib.pyplot as plt\n",
    "plt.pie(y_train.value_counts(),labels=[' Not Fraud','Fraud'])"
   ]
  },
  {
   "cell_type": "markdown",
   "id": "dc0f5a26",
   "metadata": {},
   "source": [
    "Points to be considered till now:\n",
    "1. Test and train dataset is defined.\n",
    "2. The datset is imbalanced dataset."
   ]
  },
  {
   "cell_type": "markdown",
   "id": "ac1231ba",
   "metadata": {},
   "source": [
    "# Handling Imbalanced Datasets"
   ]
  },
  {
   "cell_type": "code",
   "execution_count": 22,
   "id": "59a2a409",
   "metadata": {},
   "outputs": [],
   "source": [
    "from imblearn.over_sampling import SMOTE\n",
    "smote=SMOTE(random_state=42)\n",
    "x,y=smote.fit_resample(x_train,y_train)"
   ]
  },
  {
   "cell_type": "code",
   "execution_count": 23,
   "id": "ecd086bb",
   "metadata": {},
   "outputs": [
    {
     "data": {
      "text/plain": [
       "array([5083503, 5083503], dtype=int64)"
      ]
     },
     "execution_count": 23,
     "metadata": {},
     "output_type": "execute_result"
    }
   ],
   "source": [
    "import numpy as np\n",
    "np.bincount(y)"
   ]
  },
  {
   "cell_type": "markdown",
   "id": "98ec73e3",
   "metadata": {},
   "source": [
    "Points to be considered till now:\n",
    "1. Imbalanced dataset converted using SMOTE\n",
    "2. New dataset of 0-> 5083503 and 1-> 508503."
   ]
  },
  {
   "cell_type": "markdown",
   "id": "6fd4cc18",
   "metadata": {},
   "source": [
    "# Correlation of the data"
   ]
  },
  {
   "cell_type": "code",
   "execution_count": 24,
   "id": "92ecbd65",
   "metadata": {},
   "outputs": [
    {
     "data": {
      "text/plain": [
       "<Axes: >"
      ]
     },
     "execution_count": 24,
     "metadata": {},
     "output_type": "execute_result"
    },
    {
     "data": {
      "image/png": "[encoded data removed]",
      "text/plain": [
       "<Figure size 1000x600 with 2 Axes>"
      ]
     },
     "metadata": {},
     "output_type": "display_data"
    }
   ],
   "source": [
    "import seaborn as sns\n",
    "corr_matrix=data.corr()\n",
    "\n",
    "plt.figure(figsize=(10,6))\n",
    "sns.heatmap(corr_matrix,annot=True)"
   ]
  },
  {
   "cell_type": "markdown",
   "id": "21ceaf0b",
   "metadata": {},
   "source": [
    "Points to be considered till now:\n",
    "1. The correlation matrix is obtained.\n",
    "2. The amount is highly correlated to the isFraud"
   ]
  },
  {
   "cell_type": "markdown",
   "id": "1000dea5",
   "metadata": {},
   "source": [
    "# Model fitting"
   ]
  },
  {
   "cell_type": "code",
   "execution_count": 25,
   "id": "04625186",
   "metadata": {},
   "outputs": [],
   "source": [
    "## It is a binary classification task"
   ]
  },
  {
   "cell_type": "markdown",
   "id": "d4a5a92f",
   "metadata": {},
   "source": [
    "#### Logistic Regression "
   ]
  },
  {
   "cell_type": "code",
   "execution_count": 26,
   "id": "e8fee545",
   "metadata": {},
   "outputs": [
    {
     "name": "stderr",
     "output_type": "stream",
     "text": [
      "C:\\Users\\ayush\\anaconda3\\Lib\\site-packages\\sklearn\\linear_model\\_logistic.py:458: ConvergenceWarning:\n",
      "\n",
      "lbfgs failed to converge (status=1):\n",
      "STOP: TOTAL NO. of ITERATIONS REACHED LIMIT.\n",
      "\n",
      "Increase the number of iterations (max_iter) or scale the data as shown in:\n",
      "    https://scikit-learn.org/stable/modules/preprocessing.html\n",
      "Please also refer to the documentation for alternative solver options:\n",
      "    https://scikit-learn.org/stable/modules/linear_model.html#logistic-regression\n",
      "\n"
     ]
    }
   ],
   "source": [
    "from sklearn.linear_model import LogisticRegression\n",
    "model_test_lr=LogisticRegression()\n",
    "model_test_lr.fit(x,y)\n",
    "y_predict_lr=model_test_lr.predict(x_test)"
   ]
  },
  {
   "cell_type": "code",
   "execution_count": 27,
   "id": "5469a5fd",
   "metadata": {},
   "outputs": [
    {
     "name": "stdout",
     "output_type": "stream",
     "text": [
      "95.47065517035435\n"
     ]
    }
   ],
   "source": [
    "from sklearn.metrics import accuracy_score\n",
    "print(accuracy_score(y_test,y_predict_lr)*100)"
   ]
  },
  {
   "cell_type": "code",
   "execution_count": 28,
   "id": "4c4f01aa",
   "metadata": {},
   "outputs": [
    {
     "name": "stdout",
     "output_type": "stream",
     "text": [
      "              precision    recall  f1-score   support\n",
      "\n",
      "           0       1.00      0.95      0.98   1270904\n",
      "           1       0.03      0.92      0.05      1620\n",
      "\n",
      "    accuracy                           0.95   1272524\n",
      "   macro avg       0.51      0.94      0.51   1272524\n",
      "weighted avg       1.00      0.95      0.98   1272524\n",
      "\n"
     ]
    }
   ],
   "source": [
    "from sklearn.metrics import classification_report\n",
    "print(classification_report(y_test,y_predict_lr))"
   ]
  },
  {
   "cell_type": "code",
   "execution_count": 29,
   "id": "a881b7e7",
   "metadata": {},
   "outputs": [
    {
     "data": {
      "image/png": "[encoded data removed]",
      "text/plain": [
       "<Figure size 1200x800 with 2 Axes>"
      ]
     },
     "metadata": {},
     "output_type": "display_data"
    }
   ],
   "source": [
    "from sklearn.metrics import confusion_matrix\n",
    "import seaborn as sns\n",
    "import matplotlib.pyplot as plt\n",
    "cf_matrix = confusion_matrix(y_test,y_predict_lr)\n",
    "plt.figure(figsize=(12,8))\n",
    "sns.heatmap(cf_matrix, annot=True)\n",
    "plt.title(\"Confusion Matrix for Logistic Regression on Test Data\")\n",
    "plt.show()"
   ]
  },
  {
   "cell_type": "markdown",
   "id": "5fd1dabd",
   "metadata": {},
   "source": [
    "Points to be considered till now:\n",
    "1. Logistic Resgression Accuracy= 95.47065517035435%.\n",
    "2. Logistic Regression can't handle that much amount of data and result in failed of convergence.\n",
    "3. So it is overfitting and needed strong model compared to it."
   ]
  },
  {
   "cell_type": "markdown",
   "id": "286f18c3",
   "metadata": {},
   "source": [
    "#### KNN"
   ]
  },
  {
   "cell_type": "code",
   "execution_count": 30,
   "id": "ccf63def",
   "metadata": {},
   "outputs": [],
   "source": [
    "from sklearn.neighbors import KNeighborsClassifier\n",
    "model_test_knn=KNeighborsClassifier()\n",
    "model_test_knn.fit(x,y)\n",
    "y_predict_knn=model_test_knn.predict(x_test)"
   ]
  },
  {
   "cell_type": "code",
   "execution_count": 31,
   "id": "4041cc12",
   "metadata": {},
   "outputs": [
    {
     "name": "stdout",
     "output_type": "stream",
     "text": [
      "0.9940008990007261\n"
     ]
    }
   ],
   "source": [
    "from sklearn.metrics import accuracy_score\n",
    "print(accuracy_score(y_test,y_predict_knn))"
   ]
  },
  {
   "cell_type": "code",
   "execution_count": 32,
   "id": "5a04e5ed",
   "metadata": {},
   "outputs": [
    {
     "name": "stdout",
     "output_type": "stream",
     "text": [
      "              precision    recall  f1-score   support\n",
      "\n",
      "           0       1.00      0.99      1.00   1270904\n",
      "           1       0.14      0.72      0.23      1620\n",
      "\n",
      "    accuracy                           0.99   1272524\n",
      "   macro avg       0.57      0.86      0.62   1272524\n",
      "weighted avg       1.00      0.99      1.00   1272524\n",
      "\n"
     ]
    }
   ],
   "source": [
    "from sklearn.metrics import classification_report\n",
    "print(classification_report(y_test,y_predict_knn))"
   ]
  },
  {
   "cell_type": "code",
   "execution_count": 33,
   "id": "547157c8",
   "metadata": {},
   "outputs": [
    {
     "data": {
      "image/png": "[encoded data removed]",
      "text/plain": [
       "<Figure size 1200x800 with 2 Axes>"
      ]
     },
     "metadata": {},
     "output_type": "display_data"
    }
   ],
   "source": [
    "from sklearn.metrics import confusion_matrix\n",
    "import seaborn as sns\n",
    "import matplotlib.pyplot as plt\n",
    "cf_matrix = confusion_matrix(y_test,y_predict_knn)\n",
    "plt.figure(figsize=(12,8))\n",
    "sns.heatmap(cf_matrix, annot=True)\n",
    "plt.title(\"Confusion Matrix for KNN on Test Data\")\n",
    "plt.show()"
   ]
  },
  {
   "cell_type": "markdown",
   "id": "b602b96a",
   "metadata": {},
   "source": [
    "Points to be considered till now:\n",
    "1. Accuracy= 0.9940008990007261\n"
   ]
  },
  {
   "cell_type": "markdown",
   "id": "d88eee46",
   "metadata": {},
   "source": [
    "#### Random Forest Classifier"
   ]
  },
  {
   "cell_type": "code",
   "execution_count": 34,
   "id": "996284a7",
   "metadata": {},
   "outputs": [],
   "source": [
    "from sklearn.ensemble import RandomForestClassifier\n",
    "model_test_rfc=RandomForestClassifier()\n",
    "model_test_rfc.fit(x,y)\n",
    "y_predict_rfc=model_test_rfc.predict(x_test)"
   ]
  },
  {
   "cell_type": "code",
   "execution_count": 35,
   "id": "72c96969",
   "metadata": {},
   "outputs": [
    {
     "name": "stdout",
     "output_type": "stream",
     "text": [
      "0.9992149460442397\n"
     ]
    }
   ],
   "source": [
    "from sklearn.metrics import accuracy_score\n",
    "print(accuracy_score(y_test,y_predict_rfc))"
   ]
  },
  {
   "cell_type": "code",
   "execution_count": 36,
   "id": "9e0d5054",
   "metadata": {},
   "outputs": [
    {
     "name": "stdout",
     "output_type": "stream",
     "text": [
      "              precision    recall  f1-score   support\n",
      "\n",
      "           0       1.00      1.00      1.00   1270904\n",
      "           1       0.63      0.96      0.76      1620\n",
      "\n",
      "    accuracy                           1.00   1272524\n",
      "   macro avg       0.81      0.98      0.88   1272524\n",
      "weighted avg       1.00      1.00      1.00   1272524\n",
      "\n"
     ]
    }
   ],
   "source": [
    "from sklearn.metrics import classification_report\n",
    "print(classification_report(y_test,y_predict_rfc))"
   ]
  },
  {
   "cell_type": "code",
   "execution_count": 37,
   "id": "d23fcea8",
   "metadata": {},
   "outputs": [
    {
     "data": {
      "image/png": "[encoded data removed]",
      "text/plain": [
       "<Figure size 1200x800 with 2 Axes>"
      ]
     },
     "metadata": {},
     "output_type": "display_data"
    }
   ],
   "source": [
    "from sklearn.metrics import confusion_matrix\n",
    "import seaborn as sns\n",
    "import matplotlib.pyplot as plt\n",
    "cf_matrix = confusion_matrix(y_test,y_predict_rfc)\n",
    "plt.figure(figsize=(12,8))\n",
    "sns.heatmap(cf_matrix, annot=True)\n",
    "plt.title(\"Confusion Matrix for Random Forest Classifier on Test Data\")\n",
    "plt.show()"
   ]
  },
  {
   "cell_type": "markdown",
   "id": "8b15246e",
   "metadata": {},
   "source": [
    "Points to be considered till now:\n",
    "1. Accuracy= 99.9219661083013%\n",
    "2. Decision tree is not used due to overfitting.\n",
    "3. Give least false results in confusion matrix and have highest precision and recall rate."
   ]
  },
  {
   "cell_type": "markdown",
   "id": "5ae9269d",
   "metadata": {},
   "source": [
    "#### Naive Bayes "
   ]
  },
  {
   "cell_type": "code",
   "execution_count": 38,
   "id": "cc937228",
   "metadata": {},
   "outputs": [
    {
     "data": {
      "text/plain": [
       "75.8157802917666"
      ]
     },
     "execution_count": 38,
     "metadata": {},
     "output_type": "execute_result"
    }
   ],
   "source": [
    "from sklearn.metrics import accuracy_score\n",
    "from sklearn.naive_bayes import GaussianNB\n",
    "nb=GaussianNB()\n",
    "nb.fit(x,y)\n",
    "y_pred=nb.predict(x_test)\n",
    "accuracy_score(y_test,y_pred)*100"
   ]
  },
  {
   "cell_type": "code",
   "execution_count": 39,
   "id": "efbdb421",
   "metadata": {},
   "outputs": [
    {
     "name": "stdout",
     "output_type": "stream",
     "text": [
      "              precision    recall  f1-score   support\n",
      "\n",
      "           0       1.00      0.76      0.86   1270904\n",
      "           1       0.00      0.77      0.01      1620\n",
      "\n",
      "    accuracy                           0.76   1272524\n",
      "   macro avg       0.50      0.77      0.44   1272524\n",
      "weighted avg       1.00      0.76      0.86   1272524\n",
      "\n"
     ]
    }
   ],
   "source": [
    "from sklearn.metrics import classification_report\n",
    "print(classification_report(y_test,y_pred))"
   ]
  },
  {
   "cell_type": "code",
   "execution_count": 40,
   "id": "d057d938",
   "metadata": {},
   "outputs": [
    {
     "data": {
      "image/png": "[encoded data removed]",
      "text/plain": [
       "<Figure size 1200x800 with 2 Axes>"
      ]
     },
     "metadata": {},
     "output_type": "display_data"
    }
   ],
   "source": [
    "from sklearn.metrics import confusion_matrix\n",
    "import seaborn as sns\n",
    "import matplotlib.pyplot as plt\n",
    "cf_matrix = confusion_matrix(y_test,y_pred)\n",
    "plt.figure(figsize=(12,8))\n",
    "sns.heatmap(cf_matrix, annot=True)\n",
    "plt.title(\"Confusion Matrix for Naive Bayes on Test Data\")\n",
    "plt.show()"
   ]
  },
  {
   "cell_type": "markdown",
   "id": "e67be2cb",
   "metadata": {},
   "source": [
    "Points to be considered till now:\n",
    "1.Accuracy= 75.8157802917666 %"
   ]
  },
  {
   "cell_type": "markdown",
   "id": "e6e63afc",
   "metadata": {},
   "source": [
    "#### ANN"
   ]
  },
  {
   "cell_type": "code",
   "execution_count": 41,
   "id": "8f341815",
   "metadata": {},
   "outputs": [
    {
     "name": "stdout",
     "output_type": "stream",
     "text": [
      "Collecting keras-tuner\n",
      "  Obtaining dependency information for keras-tuner from https://files.pythonhosted.org/packages/2b/39/21f819fcda657c37519cf817ca1cd03a8a025262aad360876d2a971d38b3/keras_tuner-1.4.6-py3-none-any.whl.metadata\n",
      "  Using cached keras_tuner-1.4.6-py3-none-any.whl.metadata (5.4 kB)\n",
      "Requirement already satisfied: keras in c:\\users\\ayush\\anaconda3\\lib\\site-packages (from keras-tuner) (2.15.0)\n",
      "Requirement already satisfied: packaging in c:\\users\\ayush\\anaconda3\\lib\\site-packages (from keras-tuner) (23.1)\n",
      "Requirement already satisfied: requests in c:\\users\\ayush\\anaconda3\\lib\\site-packages (from keras-tuner) (2.31.0)\n",
      "Collecting kt-legacy (from keras-tuner)\n",
      "  Using cached kt_legacy-1.0.5-py3-none-any.whl (9.6 kB)\n",
      "Requirement already satisfied: charset-normalizer<4,>=2 in c:\\users\\ayush\\anaconda3\\lib\\site-packages (from requests->keras-tuner) (2.0.4)\n",
      "Requirement already satisfied: idna<4,>=2.5 in c:\\users\\ayush\\anaconda3\\lib\\site-packages (from requests->keras-tuner) (3.4)\n",
      "Requirement already satisfied: urllib3<3,>=1.21.1 in c:\\users\\ayush\\anaconda3\\lib\\site-packages (from requests->keras-tuner) (1.26.16)\n",
      "Requirement already satisfied: certifi>=2017.4.17 in c:\\users\\ayush\\anaconda3\\lib\\site-packages (from requests->keras-tuner) (2023.11.17)\n",
      "Using cached keras_tuner-1.4.6-py3-none-any.whl (128 kB)\n",
      "Installing collected packages: kt-legacy, keras-tuner\n",
      "Successfully installed keras-tuner-1.4.6 kt-legacy-1.0.5\n",
      "Note: you may need to restart the kernel to use updated packages.\n"
     ]
    }
   ],
   "source": [
    "pip install keras-tuner"
   ]
  },
  {
   "cell_type": "code",
   "execution_count": 42,
   "id": "a17ee1f0",
   "metadata": {},
   "outputs": [
    {
     "name": "stderr",
     "output_type": "stream",
     "text": [
      "2024-02-01 12:11:38,973 - WARNING  - From C:\\Users\\ayush\\anaconda3\\Lib\\site-packages\\keras\\src\\losses.py:2976: The name tf.losses.sparse_softmax_cross_entropy is deprecated. Please use tf.compat.v1.losses.sparse_softmax_cross_entropy instead.\n",
      "\n"
     ]
    }
   ],
   "source": [
    "import keras\n",
    "\n",
    "from sklearn.model_selection import GridSearchCV\n",
    "from keras.activations import relu,sigmoid,softmax\n",
    "from keras.models import Sequential\n",
    "from  keras.layers import Dropout,Dense,Activation\n",
    "from keras_tuner import RandomSearch"
   ]
  },
  {
   "cell_type": "code",
   "execution_count": 43,
   "id": "6f7f9eb0",
   "metadata": {},
   "outputs": [],
   "source": [
    "def build_model(hp):\n",
    "    model=Sequential()\n",
    "    hp_activation=hp.Choice('activation',values=['relu','tanh','sigmoid','LeakyRelu','PReLU','ELU'])\n",
    "    hp_layer_1=hp.Int('layer1',min_value=1,max_value=1000,step=100)\n",
    "    hp_layer_2=hp.Int('layer2',min_value=1,max_value=1000,step=100)\n",
    "    hp_layer_3=hp.Int('layer3',min_value=1,max_value=1000,step=100)\n",
    "  \n",
    "    model.add(Dense(units=hp_layer_1,activation=hp_activation,input_dim=x.shape[1]))\n",
    "    model.add(Dense(units=hp_layer_2,activation=hp_activation))\n",
    "    model.add(Dense(units=hp_layer_3,activation=hp_activation))\n",
    "\n",
    "    model.add(Dropout(0.3))\n",
    "    model.add(Dense(112,activation='softmax'))\n",
    "    model.compile(optimizer=keras.optimizers.Adam(hp.Choice('learning_rate',values=[1e-2,1e-3,1e-4,1e-7])),loss=keras.losses.SparseCategoricalCrossentropy(),metrics=['accuracy'])\n",
    "    return model"
   ]
  },
  {
   "cell_type": "code",
   "execution_count": 51,
   "id": "80b69e2f",
   "metadata": {},
   "outputs": [],
   "source": [
    "tune=RandomSearch(\n",
    "    build_model,\n",
    "    objective='val_accuracy',\n",
    "    max_trials=1,\n",
    "    directory='proj',\n",
    "    project_name='fraud_detection'\n",
    ")"
   ]
  },
  {
   "cell_type": "code",
   "execution_count": 52,
   "id": "5e484e08",
   "metadata": {},
   "outputs": [
    {
     "name": "stdout",
     "output_type": "stream",
     "text": [
      "Search space summary\n",
      "Default search space size: 5\n",
      "activation (Choice)\n",
      "{'default': 'relu', 'conditions': [], 'values': ['relu', 'tanh', 'sigmoid', 'LeakyRelu', 'PReLU', 'ELU'], 'ordered': False}\n",
      "layer1 (Int)\n",
      "{'default': None, 'conditions': [], 'min_value': 1, 'max_value': 1000, 'step': 100, 'sampling': 'linear'}\n",
      "layer2 (Int)\n",
      "{'default': None, 'conditions': [], 'min_value': 1, 'max_value': 1000, 'step': 100, 'sampling': 'linear'}\n",
      "layer3 (Int)\n",
      "{'default': None, 'conditions': [], 'min_value': 1, 'max_value': 1000, 'step': 100, 'sampling': 'linear'}\n",
      "learning_rate (Choice)\n",
      "{'default': 0.01, 'conditions': [], 'values': [0.01, 0.001, 0.0001, 1e-07], 'ordered': True}\n"
     ]
    }
   ],
   "source": [
    "tune.search_space_summary()"
   ]
  },
  {
   "cell_type": "code",
   "execution_count": 53,
   "id": "cc338915",
   "metadata": {},
   "outputs": [
    {
     "name": "stdout",
     "output_type": "stream",
     "text": [
      "Trial 1 Complete [02h 09m 27s]\n",
      "val_accuracy: 0.9926123023033142\n",
      "\n",
      "Best val_accuracy So Far: 0.9926123023033142\n",
      "Total elapsed time: 02h 09m 27s\n"
     ]
    }
   ],
   "source": [
    "tune.search(x,y,epochs=5,validation_data=(x_test,y_test))"
   ]
  },
  {
   "cell_type": "code",
   "execution_count": 54,
   "id": "4e5caa0d",
   "metadata": {},
   "outputs": [
    {
     "name": "stdout",
     "output_type": "stream",
     "text": [
      "Results summary\n",
      "Results in proj\\fraud_detection\n",
      "Showing 10 best trials\n",
      "Objective(name=\"val_accuracy\", direction=\"max\")\n",
      "\n",
      "Trial 0 summary\n",
      "Hyperparameters:\n",
      "activation: PReLU\n",
      "layer1: 901\n",
      "layer2: 101\n",
      "layer3: 701\n",
      "learning_rate: 0.01\n",
      "Score: 0.9926123023033142\n"
     ]
    }
   ],
   "source": [
    "tune.results_summary()"
   ]
  },
  {
   "cell_type": "markdown",
   "id": "df3b330d",
   "metadata": {},
   "source": [
    "Points to be considered till now:\n",
    "1. Accuracy=99.262"
   ]
  },
  {
   "cell_type": "markdown",
   "id": "40a546ad",
   "metadata": {},
   "source": [
    "# Saving model"
   ]
  },
  {
   "cell_type": "code",
   "execution_count": 58,
   "id": "5055f33a",
   "metadata": {},
   "outputs": [],
   "source": [
    "#saving random forest using pickle\n",
    "import pickle\n",
    "filename = 'model_rfc.sav'\n",
    "pickle.dump(model_test_rfc, open(filename, 'wb'))"
   ]
  },
  {
   "cell_type": "markdown",
   "id": "ca8ad775",
   "metadata": {},
   "source": [
    "# Conclusion"
   ]
  },
  {
   "cell_type": "markdown",
   "id": "ce694647",
   "metadata": {},
   "source": [
    "By comparing all the models I get the result that Random Forest Classifier is best for this dataset due to higher accuracy,higher precision and higher recall than others.\n",
    "\n",
    "Tasks quesions:\n",
    "\n",
    "1. Data cleaning including missing values, outliers and multi-collinearity.\n",
    "\n",
    "Ans- There is no missing values present but the dataset is imbalanced dataset so I use the SMOTE technique.\n",
    "\n",
    "\n",
    "2. Describe your fraud detection model in elaboration.\n",
    "\n",
    "Ans- Compared all the binary classifications model and found random forest classifier is best by keping the precision and recall values in mind.\n",
    "\n",
    "\n",
    "3. How did you select variables to be included in the model?\n",
    "\n",
    "Ans- VAriables are frst converted from text to numericals attributes and dataset is updated by balancing the dataset using the SMOTE technique.\n",
    "\n",
    "\n",
    "4. Demonstrate the performance of the model by using best set of tools.\n",
    "\n",
    "Ans- The performance of the model can be seen by the confuioon matrix and the classification report mentioned above.\n",
    "\n",
    "\n",
    "5. What are the key factors that predict fraudulent customer?\n",
    "\n",
    "Ans- According to the correlation matrix the amount had highest correlation with the isFraud.\n",
    "\n",
    "\n",
    "6. Do these factors make sense? If yes, How? If not, How not?\n",
    "\n",
    "Ans- Yes the amount factor plays a cruicial amount in the prediction if the amount is high then the chances of being fraud is comparably better.\n",
    "\n",
    "\n",
    "7. What kind of prevention should be adopted while company update its infrastructure?\n",
    "\n",
    "Ans- While company updates its infrastructure and brings change in the dataset then they have to provide new entries to the model also.\n",
    "\n",
    "\n",
    "8. Assuming these actions have been implemented, how would you determine if they work?\n",
    "\n",
    "Ans- The model is trained and saved   to implement it just open it through pickle no need to train test just give the new values to it."
   ]
  }
 ],
 "metadata": {
  "kernelspec": {
   "display_name": "Python 3 (ipykernel)",
   "language": "python",
   "name": "python3"
  },
  "language_info": {
   "codemirror_mode": {
    "name": "ipython",
    "version": 3
   },
   "file_extension": ".py",
   "mimetype": "text/x-python",
   "name": "python",
   "nbconvert_exporter": "python",
   "pygments_lexer": "ipython3",
   "version": "3.11.5"
  }
 },
 "nbformat": 4,
 "nbformat_minor": 5
}
